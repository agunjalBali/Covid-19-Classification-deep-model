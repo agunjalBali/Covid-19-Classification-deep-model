{
  "nbformat": 4,
  "nbformat_minor": 0,
  "metadata": {
    "colab": {
      "name": "Covid19_Classification_Code.ipynb",
      "provenance": [],
      "collapsed_sections": []
    },
    "kernelspec": {
      "name": "python3",
      "display_name": "Python 3"
    },
    "accelerator": "GPU"
  },
  "cells": [
    {
      "cell_type": "markdown",
      "metadata": {
        "id": "gyG4OC_n_Bgb"
      },
      "source": [
        "CoVNet-X: COVID19 Chest XRays classification model \n",
        "By Taikhum, Yash, Shreyas\n",
        "The model uses Xception/t as base model pre-trained on ImageNet, retrained on Chest X-rays dataset \n",
        "\n",
        "\n",
        "\n"
      ]
    },
    {
      "cell_type": "code",
      "metadata": {
        "id": "tNC-YH9KeQ7-"
      },
      "source": [
        "#Download and unzip dataset if reqiored\n",
        "\n",
        "!gdown https://drive.google.com/drive/folders/1iBmeYCsizh-pMBjH0ovC0MEXUfvd19Qr\n"
      ],
      "execution_count": null,
      "outputs": []
    },
    {
      "cell_type": "markdown",
      "metadata": {
        "id": "dDmE5_NHRagI"
      },
      "source": [
        "Mount Gogle Drive to save and load models n datasets"
      ]
    },
    {
      "cell_type": "code",
      "metadata": {
        "id": "tyAhoZAvfDXR",
        "colab": {
          "base_uri": "https://localhost:8080/"
        },
        "outputId": "b502bbe8-fb04-45a5-8345-05177b962882"
      },
      "source": [
        "#Mount Google Drive\n",
        "\n",
        "\n",
        "from google.colab import drive\n",
        "drive.mount('/content/drive')"
      ],
      "execution_count": 1,
      "outputs": [
        {
          "output_type": "stream",
          "text": [
            "Mounted at /content/drive\n"
          ],
          "name": "stdout"
        }
      ]
    },
    {
      "cell_type": "code",
      "metadata": {
        "id": "prEpiZCC5HYY"
      },
      "source": [
        "#copy dataset folder from google drive\n",
        "!cp -R /content/drive/\"MyDrive\"/Dataset/covid-19 /content\n"
      ],
      "execution_count": 2,
      "outputs": []
    },
    {
      "cell_type": "code",
      "metadata": {
        "id": "JHtRS9Wf9mZc"
      },
      "source": [
        "#import libraries and packages\n",
        "\n",
        "from numpy.random import seed\n",
        "seed(8) #1\n",
        "import matplotlib.pyplot as plt\n",
        "\n",
        "import tensorflow\n",
        "tensorflow.random.set_seed(7)\n",
        "\n",
        "import numpy as np # linear algebra\n",
        "import pandas as pd # data processing, CSV file I/O (e.g. pd.read_csv)\n",
        "\n",
        "import os\n",
        "\n",
        "from tensorflow.keras import backend as K\n",
        "from tensorflow.keras.models import Model ,load_model\n",
        "from tensorflow.keras.layers import Flatten, Dense, Dropout\n",
        "from tensorflow.keras.applications.inception_resnet_v2 import InceptionResNetV2, preprocess_input\n",
        "from keras.applications.vgg16 import preprocess_input\n",
        "from keras.applications.vgg16 import decode_predictions\n",
        "from keras.applications.vgg16 import VGG16\n",
        "from tensorflow.keras.optimizers import Adam, RMSprop\n",
        "from tensorflow.keras.preprocessing.image import ImageDataGenerator\n",
        "from tensorflow.keras.callbacks import ModelCheckpoint\n",
        "import numpy as np\n",
        "import tensorflow as tf\n",
        "\n",
        "from tensorflow.python.keras import models\n",
        "from tensorflow.python.keras import layers\n",
        "\n",
        "from tensorflow.keras import optimizers\n",
        "\n",
        "\n"
      ],
      "execution_count": 48,
      "outputs": []
    },
    {
      "cell_type": "code",
      "metadata": {
        "id": "cvTuKxbA_6Qx",
        "colab": {
          "base_uri": "https://localhost:8080/"
        },
        "outputId": "a087f13a-5459-40c1-b08c-8eb5d2107b98"
      },
      "source": [
        "print(os.listdir(\"/content/covid-19/four_classes/train\"))\n",
        "\n",
        "#Print and remove zips once done\n",
        "\n"
      ],
      "execution_count": 27,
      "outputs": [
        {
          "output_type": "stream",
          "text": [
            "['pneumonia_viral', 'pneumonia_bacterial', 'normal', 'covid']\n"
          ],
          "name": "stdout"
        }
      ]
    },
    {
      "cell_type": "code",
      "metadata": {
        "id": "y8o_f_kN07sV",
        "colab": {
          "base_uri": "https://localhost:8080/"
        },
        "outputId": "6506e16b-3fa9-4506-a346-2703af0b9e43"
      },
      "source": [
        "ls covid-19/four_classes/train"
      ],
      "execution_count": 13,
      "outputs": [
        {
          "output_type": "stream",
          "text": [
            "\u001b[0m\u001b[01;34mcovid\u001b[0m/  \u001b[01;34mnormal\u001b[0m/  \u001b[01;34mpneumonia_bacterial\u001b[0m/  \u001b[01;34mpneumonia_viral\u001b[0m/\n"
          ],
          "name": "stdout"
        }
      ]
    },
    {
      "cell_type": "markdown",
      "metadata": {
        "id": "SW7NXqkh-Gk8"
      },
      "source": [
        "**Crete Data Generators to preprocess and prepare training and validation**"
      ]
    },
    {
      "cell_type": "code",
      "metadata": {
        "id": "0BfmpmKd-JOb",
        "colab": {
          "base_uri": "https://localhost:8080/"
        },
        "outputId": "6fbb1faf-22cc-4f4d-a813-45e86b2bdcaa"
      },
      "source": [
        "\n",
        "from os import listdir\n",
        "data_list = listdir('/content/covid-19/four_classes/train')\n",
        "#data_list = listdir('/content/drive/My Drive/Datasets/covid-19/four_classes/train')\n",
        "\n",
        "#Delete some classes that may interfere\n",
        "\n",
        "print(len(data_list))\n",
        "\n",
        "\n",
        "DATASET_PATH  = '/content/covid-19/four_classes/train'\n",
        "test_dir =  '/content/covid-19/four_classes/test'\n",
        "IMAGE_SIZE    = (150, 150)\n",
        "NUM_CLASSES   = len(data_list)\n",
        "BATCH_SIZE    = 10  # try reducing batch size or freeze more layers if your GPU runs out of memory\n",
        "NUM_EPOCHS    = 80\n",
        "LEARNING_RATE =0.0001\n",
        "\n",
        "\n",
        "\n",
        "#Train datagen here is a preprocessor\n",
        "train_datagen = ImageDataGenerator(rescale=1./255,\n",
        "                                   rotation_range=50,\n",
        "                                   featurewise_center = True,\n",
        "                                   featurewise_std_normalization = True,\n",
        "                                   width_shift_range=0.2,\n",
        "                                   height_shift_range=0.2,\n",
        "                                   shear_range=0.25,\n",
        "                                   zoom_range=0.1,\n",
        "                                   channel_shift_range = 20,\n",
        "                                   horizontal_flip = True ,\n",
        "                                   vertical_flip = True ,\n",
        "                                   validation_split = 0.2,\n",
        "                                   fill_mode='constant')\n",
        "\n",
        "\n",
        "\n",
        "# For multiclass use categorical n for binary use binary\n",
        "train_batches = train_datagen.flow_from_directory(DATASET_PATH,\n",
        "                                                  target_size=IMAGE_SIZE,\n",
        "                                                  shuffle=True,\n",
        "                                                  batch_size=BATCH_SIZE,\n",
        "                                                  subset = \"training\",\n",
        "                                                  seed=42,\n",
        "                                                  class_mode=\"categorical\"   #For multiclass use categorical n for binary use binary\n",
        "                                                  )\n",
        "valid_batches = train_datagen.flow_from_directory(DATASET_PATH,\n",
        "                                                  target_size=IMAGE_SIZE,\n",
        "                                                  shuffle=True,\n",
        "                                                  batch_size=BATCH_SIZE,\n",
        "                                                  subset = \"validation\",\n",
        "                                                  seed=42,\n",
        "                                                  class_mode=\"categorical\"  #For multiclass use categorical n for binary use binary\n",
        "                                                 \n",
        "                                                  )\n",
        "\n"
      ],
      "execution_count": 101,
      "outputs": [
        {
          "output_type": "stream",
          "text": [
            "4\n",
            "Found 1119 images belonging to 4 classes.\n",
            "Found 277 images belonging to 4 classes.\n"
          ],
          "name": "stdout"
        }
      ]
    },
    {
      "cell_type": "code",
      "metadata": {
        "id": "i7748nBfIzv1"
      },
      "source": [
        "path=\"/content/covid-19/four_classes/\"\n",
        "!ls -a /content/covid-19/four_classes/train/.ipynb_checkpoints\n",
        "!rm -R /content/covid-19/four_classes/test/.ipynb_checkpoints \n",
        "!pwd"
      ],
      "execution_count": null,
      "outputs": []
    },
    {
      "cell_type": "markdown",
      "metadata": {
        "id": "Arc_63PU-O5K"
      },
      "source": [
        "Create a new model or Use Pre trained CNN Model and modify according to the need. "
      ]
    },
    {
      "cell_type": "code",
      "metadata": {
        "id": "lyGm7tYQBBr1"
      },
      "source": [
        "#Simple CNN model based on Xception. Set dense layer neuron count same as the no. of output classes \n",
        "#If you wnna use a saved model then skip this step\n",
        "\n",
        "\n",
        "from tensorflow.keras.applications import Xception\n",
        "\n",
        "conv_base = Xception(weights='imagenet',\n",
        "                  include_top=False,\n",
        "                  input_shape=(150, 150, 3))\n",
        "\n",
        "\n",
        "conv_base.trainable = True\n",
        "\n",
        "\n",
        "model = models.Sequential()\n",
        "model.add(conv_base)\n",
        "\n",
        "\n",
        "\n",
        "\n",
        "model.add(layers.Flatten())\n",
        "model.add(layers.Dropout(0.5))\n",
        "\n",
        "model.add(layers.Dense(256, activation='relu'))\n",
        "model.add(layers.Dense(256, activation='relu'))\n",
        "\n",
        "model.add(layers.Dropout(0.5))\n",
        "model.add(layers.Dense(256, activation='relu'))\n",
        "model.add(layers.Dense(4, activation='softmax'))\n",
        "\n",
        "\n",
        "model.compile(loss='categorical_crossentropy',     #for multiclass use categorical_crossentropy\n",
        "              \n",
        "              optimizer=optimizers.Adam(lr=LEARNING_RATE),\n",
        "              metrics=['acc'])"
      ],
      "execution_count": null,
      "outputs": []
    },
    {
      "cell_type": "markdown",
      "metadata": {
        "id": "Ys977cbc6F_T"
      },
      "source": [
        "**Load an already saved model (If there is a trained model already saved on drive)**"
      ]
    },
    {
      "cell_type": "code",
      "metadata": {
        "id": "GKDLJZjL-UlA",
        "colab": {
          "base_uri": "https://localhost:8080/"
        },
        "outputId": "23ab7264-8ad5-4074-dc69-08ae221cc9c5"
      },
      "source": [
        "#Load saved model from .hs file, otherwise disable this line\n",
        "model=load_model('/content/drive/MyDrive/4-class-Covid19-Mod_best.h5')\n",
        "print(model.summary())\n"
      ],
      "execution_count": 92,
      "outputs": [
        {
          "output_type": "stream",
          "text": [
            "Model: \"sequential_8\"\n",
            "_________________________________________________________________\n",
            "Layer (type)                 Output Shape              Param #   \n",
            "=================================================================\n",
            "xception (Functional)        (None, 5, 5, 2048)        20861480  \n",
            "_________________________________________________________________\n",
            "flatten_8 (Flatten)          (None, 51200)             0         \n",
            "_________________________________________________________________\n",
            "dropout_15 (Dropout)         (None, 51200)             0         \n",
            "_________________________________________________________________\n",
            "dense_29 (Dense)             (None, 256)               13107456  \n",
            "_________________________________________________________________\n",
            "dense_30 (Dense)             (None, 256)               65792     \n",
            "_________________________________________________________________\n",
            "dense_31 (Dense)             (None, 4)                 1028      \n",
            "=================================================================\n",
            "Total params: 34,035,756\n",
            "Trainable params: 33,981,228\n",
            "Non-trainable params: 54,528\n",
            "_________________________________________________________________\n",
            "None\n"
          ],
          "name": "stdout"
        }
      ]
    },
    {
      "cell_type": "markdown",
      "metadata": {
        "id": "qh3QQZLz-yLW"
      },
      "source": [
        "Training"
      ]
    },
    {
      "cell_type": "code",
      "metadata": {
        "id": "F7IwDhx5-iKe",
        "colab": {
          "base_uri": "https://localhost:8080/"
        },
        "outputId": "b0a32701-0175-4552-a5a1-ff43de480f5f"
      },
      "source": [
        "#FIT MODEL\n",
        "print(len(train_batches))\n",
        "print(len(valid_batches))\n",
        "\n",
        "STEP_SIZE_TRAIN=train_batches.n//train_batches.batch_size\n",
        "STEP_SIZE_VALID=valid_batches.n//valid_batches.batch_size\n",
        "result=model.fit(train_batches,\n",
        "                        steps_per_epoch =STEP_SIZE_TRAIN,\n",
        "                        validation_data = valid_batches,\n",
        "                        validation_steps = STEP_SIZE_VALID,\n",
        "                        epochs= NUM_EPOCHS,                        \n",
        "                       )\n",
        "\n"
      ],
      "execution_count": 96,
      "outputs": [
        {
          "output_type": "stream",
          "text": [
            "20\n",
            "5\n"
          ],
          "name": "stdout"
        },
        {
          "output_type": "stream",
          "text": [
            "/usr/local/lib/python3.6/dist-packages/keras_preprocessing/image/image_data_generator.py:720: UserWarning: This ImageDataGenerator specifies `featurewise_center`, but it hasn't been fit on any training data. Fit it first by calling `.fit(numpy_data)`.\n",
            "  warnings.warn('This ImageDataGenerator specifies '\n",
            "/usr/local/lib/python3.6/dist-packages/keras_preprocessing/image/image_data_generator.py:728: UserWarning: This ImageDataGenerator specifies `featurewise_std_normalization`, but it hasn't been fit on any training data. Fit it first by calling `.fit(numpy_data)`.\n",
            "  warnings.warn('This ImageDataGenerator specifies '\n"
          ],
          "name": "stderr"
        },
        {
          "output_type": "stream",
          "text": [
            "19/19 [==============================] - 5s 268ms/step - loss: 0.3692 - acc: 0.8587 - val_loss: 0.4928 - val_acc: 0.9250\n"
          ],
          "name": "stdout"
        }
      ]
    },
    {
      "cell_type": "markdown",
      "metadata": {
        "id": "89ZEQXk50A9-"
      },
      "source": [
        "Evaluation"
      ]
    },
    {
      "cell_type": "code",
      "metadata": {
        "id": "tNIFRzOvp1yA"
      },
      "source": [
        "#Plot the accuracy and loss graphs\n",
        "\n",
        "\n",
        "\n",
        "def plot_acc_loss(result, epochs):\n",
        "    acc = result.history['acc']\n",
        "    loss = result.history['loss']\n",
        "    val_acc = result.history['val_acc']\n",
        "    val_loss = result.history['val_loss']\n",
        "    plt.figure(figsize=(15, 5))\n",
        "    plt.subplot(121)\n",
        "    plt.plot(range(1,epochs), acc[1:], label='Train_acc')\n",
        "    plt.plot(range(1,epochs), val_acc[1:], label='Val_acc')\n",
        "    plt.title('Accuracy over ' + str(epochs) + ' Epochs', size=15)\n",
        "    plt.legend()\n",
        "    plt.grid(True)\n",
        "    plt.subplot(122)\n",
        "    plt.plot(range(1,epochs), loss[1:], label='Train_loss')\n",
        "    plt.plot(range(1,epochs), val_loss[1:], label='Val_loss')\n",
        "    plt.title('Loss over ' + str(epochs) + ' Epochs', size=15)\n",
        "    plt.legend()\n",
        "    plt.grid(True)\n",
        "    plt.show()\n",
        "    \n",
        "plot_acc_loss(result, 80)"
      ],
      "execution_count": null,
      "outputs": []
    },
    {
      "cell_type": "code",
      "metadata": {
        "id": "g1W_MvpGJ39q"
      },
      "source": [
        "#Save the trained model and copy to drive\n",
        "\n",
        "model.save('4-class-Covid19-Mod-final.h5')\n",
        "#!cp /content/\"4-class-Covid19-Mod-Xception.h5\" /content/drive/\"My Drive\"/\"Colab Notebooks\"\n"
      ],
      "execution_count": 100,
      "outputs": []
    },
    {
      "cell_type": "markdown",
      "metadata": {
        "id": "5X6TGa0N-5R0"
      },
      "source": [
        "**Evaluate using evaluate Generator**"
      ]
    },
    {
      "cell_type": "code",
      "metadata": {
        "id": "B1Qqa6YG-6kB",
        "colab": {
          "base_uri": "https://localhost:8080/"
        },
        "outputId": "7fc142ef-67dd-4a83-d774-eff63de87715"
      },
      "source": [
        "# Create evaluate data generator from test set\n",
        "#Dont forget shuffle false\n",
        "\n",
        "test_datagen = ImageDataGenerator(rescale=1. / 255)\n",
        "test_dir =  '/content/covid-19/four_classes/test'\n",
        "\n",
        "eval_generator = test_datagen.flow_from_directory(test_dir,target_size=IMAGE_SIZE,batch_size=1, \n",
        "                                                  shuffle=False, seed=42, class_mode=\"categorical\")\n",
        "eval_generator.reset()    \n"
      ],
      "execution_count": 102,
      "outputs": [
        {
          "output_type": "stream",
          "text": [
            "Found 242 images belonging to 4 classes.\n"
          ],
          "name": "stdout"
        }
      ]
    },
    {
      "cell_type": "code",
      "metadata": {
        "id": "OruQrAjTAbly",
        "colab": {
          "base_uri": "https://localhost:8080/"
        },
        "outputId": "468f6855-4d08-474a-f50a-864f20868131"
      },
      "source": [
        "#Evalute the trained model on evaluate generator\n",
        "eval_generator.reset()  \n",
        "x = model.evaluate_generator(eval_generator,\n",
        "                           steps = np.ceil(len(eval_generator)), \n",
        "                           use_multiprocessing = False,\n",
        "                           verbose = 1,\n",
        "                           workers=1,\n",
        "                           )\n",
        "\n",
        "\n",
        "print('Test loss:' , x[0])\n",
        "print('Test accuracy:',x[1])\n",
        "\n",
        "#Poor test accuracy due to the small dataset size"
      ],
      "execution_count": 103,
      "outputs": [
        {
          "output_type": "stream",
          "text": [
            "242/242 [==============================] - 4s 18ms/step - loss: 0.3905 - acc: 0.8802\n",
            "Test loss: 0.3905360996723175\n",
            "Test accuracy: 0.8801652789115906\n"
          ],
          "name": "stdout"
        }
      ]
    },
    {
      "cell_type": "markdown",
      "metadata": {
        "id": "mqqVSc_tcvGS"
      },
      "source": [
        "**Create DataGen on single folder/class and predict !**"
      ]
    },
    {
      "cell_type": "code",
      "metadata": {
        "id": "xarJHwEpcsZQ",
        "colab": {
          "base_uri": "https://localhost:8080/"
        },
        "outputId": "288cb34a-7c2f-48a7-d1f7-85f4bae19613"
      },
      "source": [
        "IMAGE_SIZE    = (150, 150)\n",
        "test_datagen = ImageDataGenerator(rescale=1. / 255)\n",
        "pred_generator = test_datagen.flow_from_directory(\n",
        "        test_dir,target_size=IMAGE_SIZE,\n",
        "        batch_size=1,\n",
        "        shuffle=False,\n",
        "        \n",
        "        seed=42,\n",
        "        \n",
        "        class_mode=\"categorical\")\n",
        "pred_generator.reset()   \n",
        "\n",
        "count=[0,0,0,0]\n",
        "\n",
        "files=pred_generator.filenames\n",
        "\n",
        "for i in range(len(files)):\n",
        "  x,y = pred_generator.next()\n",
        "  img = x\n",
        "  predict=model.predict(img)\n",
        "  \n",
        "  p=np.argmax(predict, axis=-1)\n",
        "  print(str(p[0])+\" \"+files[pred_generator.batch_index-1])\n",
        "  #print(predict)\n",
        "  #p=model.predict_classes(img)\n",
        "  count[p[0]]+=1\n",
        "  \n",
        "#print(str(p[0])+\" \"+files[i]) \n",
        "print(count)\n",
        "  \n"
      ],
      "execution_count": 104,
      "outputs": [
        {
          "output_type": "stream",
          "text": [
            "Found 242 images belonging to 4 classes.\n",
            "0 covid/SARS-10.1148rg.242035193-g04mr34g0-Fig8b-day5.jpeg\n",
            "0 covid/SARS-10.1148rg.242035193-g04mr34g07b-Fig7b-day12.jpeg\n",
            "0 covid/X-ray_of_cyst_in_pneumocystis_pneumonia_1.jpg\n",
            "0 covid/covid-19-pneumonia-41.jpg\n",
            "0 covid/covid-19-pneumonia-58-day-10.jpg\n",
            "0 covid/covid-19-pneumonia-67.jpeg\n",
            "0 covid/covid-19-pneumonia-evolution-over-a-week-1-day6.jpg\n",
            "0 covid/covid-19-pneumonia-rapidly-progressive-3-days.jpg\n",
            "0 covid/covid-19-rapidly-progressive-acute-respiratory-distress-syndrome-ards-day-2.jpg\n",
            "0 covid/covid-s3-55.jpeg\n",
            "0 covid/covid-s3-60.jpeg\n",
            "0 covid/figure1-5e75d0940b71e1b702629659-98-right.jpeg\n",
            "0 covid/figure1-5e7c1b8d98c29ab001275405-98-later.jpeg\n",
            "0 covid/jkms-35-e79-g001-l-c.jpg\n",
            "0 covid/pneumococcal-pneumonia-day0.jpg\n",
            "0 covid/pneumocystis-jirovecii-pneumonia-2.jpg\n",
            "0 covid/pneumocystis-pneumonia-2-L.png\n",
            "0 covid/post-intubuation-pneumomediastium-and-pneumothorax-background-covid-19-pneumonia-day1.jpg\n",
            "0 covid/streptococcus-pneumoniae-pneumonia-temporal-evolution-1-day0.jpg\n",
            "0 covid/wong-0003.jpg\n",
            "1 normal/IM-0003-0001.jpeg\n",
            "1 normal/IM-0005-0001.jpeg\n",
            "1 normal/IM-0006-0001.jpeg\n",
            "1 normal/IM-0009-0001.jpeg\n",
            "1 normal/IM-0011-0001-0002.jpeg\n",
            "1 normal/IM-0011-0001.jpeg\n",
            "1 normal/IM-0013-0001.jpeg\n",
            "1 normal/IM-0015-0001.jpeg\n",
            "1 normal/IM-0016-0001.jpeg\n",
            "1 normal/IM-0017-0001.jpeg\n",
            "1 normal/IM-0019-0001.jpeg\n",
            "1 normal/IM-0021-0001.jpeg\n",
            "3 normal/IM-0022-0001.jpeg\n",
            "1 normal/IM-0023-0001.jpeg\n",
            "0 normal/IM-0025-0001.jpeg\n",
            "1 normal/IM-0027-0001.jpeg\n",
            "1 normal/IM-0028-0001.jpeg\n",
            "1 normal/IM-0029-0001.jpeg\n",
            "1 normal/IM-0030-0001.jpeg\n",
            "1 normal/IM-0031-0001.jpeg\n",
            "1 normal/IM-0033-0001-0001.jpeg\n",
            "1 normal/IM-0033-0001-0002.jpeg\n",
            "1 normal/IM-0033-0001.jpeg\n",
            "1 normal/IM-0035-0001.jpeg\n",
            "1 normal/IM-0036-0001.jpeg\n",
            "1 normal/IM-0037-0001.jpeg\n",
            "1 normal/IM-0039-0001.jpeg\n",
            "1 normal/IM-0041-0001.jpeg\n",
            "1 normal/IM-0043-0001.jpeg\n",
            "1 normal/IM-0045-0001.jpeg\n",
            "1 normal/IM-0046-0001.jpeg\n",
            "1 normal/IM-0049-0001.jpeg\n",
            "0 normal/IM-0050-0001.jpeg\n",
            "1 normal/IM-0059-0001.jpeg\n",
            "1 normal/IM-0061-0001.jpeg\n",
            "1 normal/IM-0063-0001.jpeg\n",
            "1 normal/IM-0065-0001.jpeg\n",
            "1 normal/IM-0067-0001.jpeg\n",
            "1 normal/IM-0069-0001.jpeg\n",
            "1 normal/IM-0070-0001.jpeg\n",
            "1 normal/IM-0071-0001.jpeg\n",
            "1 normal/IM-0073-0001.jpeg\n",
            "1 normal/IM-0075-0001.jpeg\n",
            "1 normal/IM-0077-0001.jpeg\n",
            "1 normal/IM-0079-0001.jpeg\n",
            "1 normal/IM-0081-0001.jpeg\n",
            "1 normal/NORMAL2-IM-0341-0001.jpeg\n",
            "1 normal/NORMAL2-IM-0343-0001.jpeg\n",
            "1 normal/NORMAL2-IM-0345-0001.jpeg\n",
            "1 normal/NORMAL2-IM-0346-0001.jpeg\n",
            "1 normal/NORMAL2-IM-0347-0001.jpeg\n",
            "1 normal/NORMAL2-IM-0348-0001.jpeg\n",
            "1 normal/NORMAL2-IM-0349-0001.jpeg\n",
            "1 normal/NORMAL2-IM-0350-0001.jpeg\n",
            "1 normal/NORMAL2-IM-0351-0001.jpeg\n",
            "1 normal/NORMAL2-IM-0352-0001.jpeg\n",
            "1 normal/NORMAL2-IM-0353-0001.jpeg\n",
            "1 normal/NORMAL2-IM-0354-0001.jpeg\n",
            "1 normal/NORMAL2-IM-0357-0001.jpeg\n",
            "1 normal/NORMAL2-IM-0359-0001.jpeg\n",
            "1 normal/NORMAL2-IM-0360-0001.jpeg\n",
            "1 normal/NORMAL2-IM-0361-0001.jpeg\n",
            "1 normal/NORMAL2-IM-0362-0001.jpeg\n",
            "1 normal/NORMAL2-IM-0364-0001.jpeg\n",
            "1 normal/NORMAL2-IM-0366-0001.jpeg\n",
            "1 normal/NORMAL2-IM-0368-0001.jpeg\n",
            "1 normal/NORMAL2-IM-0369-0001.jpeg\n",
            "1 normal/NORMAL2-IM-0370-0001.jpeg\n",
            "1 normal/NORMAL2-IM-0372-0001.jpeg\n",
            "2 normal/NORMAL2-IM-0373-0001.jpeg\n",
            "1 normal/NORMAL2-IM-0374-0001-0001.jpeg\n",
            "1 normal/NORMAL2-IM-0374-0001-0002.jpeg\n",
            "1 normal/NORMAL2-IM-0374-0001.jpeg\n",
            "1 normal/NORMAL2-IM-0376-0001.jpeg\n",
            "1 normal/NORMAL2-IM-0378-0001.jpeg\n",
            "1 normal/NORMAL2-IM-0380-0001.jpeg\n",
            "1 normal/NORMAL2-IM-0381-0001.jpeg\n",
            "2 pneumonia_bacterial/person141_bacteria_677.jpeg\n",
            "2 pneumonia_bacterial/person141_bacteria_678.jpeg\n",
            "2 pneumonia_bacterial/person141_bacteria_681.jpeg\n",
            "2 pneumonia_bacterial/person142_bacteria_682.jpeg\n",
            "2 pneumonia_bacterial/person142_bacteria_683.jpeg\n",
            "2 pneumonia_bacterial/person142_bacteria_684.jpeg\n",
            "2 pneumonia_bacterial/person143_bacteria_687.jpeg\n",
            "2 pneumonia_bacterial/person143_bacteria_688.jpeg\n",
            "2 pneumonia_bacterial/person143_bacteria_689.jpeg\n",
            "2 pneumonia_bacterial/person144_bacteria_690.jpeg\n",
            "2 pneumonia_bacterial/person145_bacteria_696.jpeg\n",
            "2 pneumonia_bacterial/person146_bacteria_700.jpeg\n",
            "2 pneumonia_bacterial/person146_bacteria_703.jpeg\n",
            "2 pneumonia_bacterial/person146_bacteria_704.jpeg\n",
            "2 pneumonia_bacterial/person147_bacteria_705.jpeg\n",
            "2 pneumonia_bacterial/person147_bacteria_706.jpeg\n",
            "2 pneumonia_bacterial/person171_bacteria_826.jpeg\n",
            "3 pneumonia_bacterial/person172_bacteria_827.jpeg\n",
            "2 pneumonia_bacterial/person172_bacteria_828.jpeg\n",
            "2 pneumonia_bacterial/person173_bacteria_829.jpeg\n",
            "2 pneumonia_bacterial/person173_bacteria_830.jpeg\n",
            "2 pneumonia_bacterial/person173_bacteria_831.jpeg\n",
            "3 pneumonia_bacterial/person174_bacteria_832.jpeg\n",
            "2 pneumonia_bacterial/person175_bacteria_833.jpeg\n",
            "2 pneumonia_bacterial/person175_bacteria_834.jpeg\n",
            "3 pneumonia_bacterial/person175_bacteria_835.jpeg\n",
            "2 pneumonia_bacterial/person75_bacteria_368.jpeg\n",
            "2 pneumonia_bacterial/person75_bacteria_369.jpeg\n",
            "2 pneumonia_bacterial/person76_bacteria_370.jpeg\n",
            "2 pneumonia_bacterial/person76_bacteria_371.jpeg\n",
            "1 pneumonia_bacterial/person76_bacteria_372.jpeg\n",
            "2 pneumonia_bacterial/person77_bacteria_374.jpeg\n",
            "2 pneumonia_bacterial/person77_bacteria_375.jpeg\n",
            "2 pneumonia_bacterial/person77_bacteria_376.jpeg\n",
            "2 pneumonia_bacterial/person77_bacteria_377.jpeg\n",
            "2 pneumonia_bacterial/person80_bacteria_389.jpeg\n",
            "2 pneumonia_bacterial/person80_bacteria_390.jpeg\n",
            "2 pneumonia_bacterial/person80_bacteria_391.jpeg\n",
            "2 pneumonia_bacterial/person80_bacteria_392.jpeg\n",
            "2 pneumonia_bacterial/person80_bacteria_393.jpeg\n",
            "2 pneumonia_bacterial/person81_bacteria_395.jpeg\n",
            "2 pneumonia_bacterial/person81_bacteria_396.jpeg\n",
            "2 pneumonia_bacterial/person81_bacteria_397.jpeg\n",
            "2 pneumonia_bacterial/person81_bacteria_398.jpeg\n",
            "2 pneumonia_bacterial/person82_bacteria_402.jpeg\n",
            "2 pneumonia_bacterial/person82_bacteria_403.jpeg\n",
            "2 pneumonia_bacterial/person82_bacteria_404.jpeg\n",
            "2 pneumonia_bacterial/person82_bacteria_405.jpeg\n",
            "2 pneumonia_bacterial/person83_bacteria_407.jpeg\n",
            "2 pneumonia_bacterial/person83_bacteria_409.jpeg\n",
            "2 pneumonia_bacterial/person83_bacteria_410.jpeg\n",
            "2 pneumonia_bacterial/person83_bacteria_411.jpeg\n",
            "2 pneumonia_bacterial/person83_bacteria_412.jpeg\n",
            "2 pneumonia_bacterial/person83_bacteria_414.jpeg\n",
            "2 pneumonia_bacterial/person85_bacteria_417.jpeg\n",
            "2 pneumonia_bacterial/person85_bacteria_419.jpeg\n",
            "2 pneumonia_bacterial/person85_bacteria_421.jpeg\n",
            "2 pneumonia_bacterial/person85_bacteria_422.jpeg\n",
            "2 pneumonia_bacterial/person85_bacteria_423.jpeg\n",
            "2 pneumonia_bacterial/person85_bacteria_424.jpeg\n",
            "2 pneumonia_bacterial/person86_bacteria_428.jpeg\n",
            "2 pneumonia_bacterial/person86_bacteria_429.jpeg\n",
            "2 pneumonia_bacterial/person87_bacteria_433.jpeg\n",
            "2 pneumonia_bacterial/person87_bacteria_434.jpeg\n",
            "2 pneumonia_bacterial/person88_bacteria_437.jpeg\n",
            "2 pneumonia_bacterial/person88_bacteria_438.jpeg\n",
            "1 pneumonia_bacterial/person88_bacteria_439.jpeg\n",
            "2 pneumonia_bacterial/person89_bacteria_440.jpeg\n",
            "2 pneumonia_bacterial/person90_bacteria_442.jpeg\n",
            "2 pneumonia_bacterial/person90_bacteria_443.jpeg\n",
            "2 pneumonia_bacterial/person91_bacteria_445.jpeg\n",
            "2 pneumonia_bacterial/person91_bacteria_446.jpeg\n",
            "2 pneumonia_bacterial/person91_bacteria_447.jpeg\n",
            "2 pneumonia_bacterial/person91_bacteria_448.jpeg\n",
            "2 pneumonia_bacterial/person91_bacteria_449.jpeg\n",
            "2 pneumonia_viral/person10_virus_35.jpeg\n",
            "2 pneumonia_viral/person11_virus_38.jpeg\n",
            "3 pneumonia_viral/person14_virus_44.jpeg\n",
            "1 pneumonia_viral/person15_virus_46.jpeg\n",
            "3 pneumonia_viral/person1647_virus_2848.jpeg\n",
            "3 pneumonia_viral/person1649_virus_2850.jpeg\n",
            "3 pneumonia_viral/person1650_virus_2852.jpeg\n",
            "3 pneumonia_viral/person1650_virus_2854.jpeg\n",
            "3 pneumonia_viral/person1651_virus_2855.jpeg\n",
            "3 pneumonia_viral/person1653_virus_2858.jpeg\n",
            "3 pneumonia_viral/person1653_virus_2859.jpeg\n",
            "3 pneumonia_viral/person1655_virus_2861.jpeg\n",
            "3 pneumonia_viral/person1656_virus_2862.jpeg\n",
            "3 pneumonia_viral/person1657_virus_2864.jpeg\n",
            "3 pneumonia_viral/person1659_virus_2867.jpeg\n",
            "3 pneumonia_viral/person1660_virus_2869.jpeg\n",
            "3 pneumonia_viral/person1661_virus_2872.jpeg\n",
            "3 pneumonia_viral/person1661_virus_2873.jpeg\n",
            "3 pneumonia_viral/person1662_virus_2875.jpeg\n",
            "3 pneumonia_viral/person1663_virus_2876.jpeg\n",
            "3 pneumonia_viral/person1664_virus_2877.jpeg\n",
            "3 pneumonia_viral/person1665_virus_2878.jpeg\n",
            "3 pneumonia_viral/person1667_virus_2881.jpeg\n",
            "3 pneumonia_viral/person1668_virus_2882.jpeg\n",
            "3 pneumonia_viral/person1669_virus_2884.jpeg\n",
            "3 pneumonia_viral/person1669_virus_2885.jpeg\n",
            "3 pneumonia_viral/person1670_virus_2886.jpeg\n",
            "3 pneumonia_viral/person1671_virus_2887.jpeg\n",
            "3 pneumonia_viral/person1672_virus_2888.jpeg\n",
            "3 pneumonia_viral/person1673_virus_2889.jpeg\n",
            "3 pneumonia_viral/person1674_virus_2890.jpeg\n",
            "3 pneumonia_viral/person1675_virus_2891.jpeg\n",
            "3 pneumonia_viral/person1676_virus_2892.jpeg\n",
            "3 pneumonia_viral/person1678_virus_2895.jpeg\n",
            "3 pneumonia_viral/person1679_virus_2896.jpeg\n",
            "3 pneumonia_viral/person1680_virus_2897.jpeg\n",
            "3 pneumonia_viral/person1682_virus_2899.jpeg\n",
            "2 pneumonia_viral/person1685_virus_2903.jpeg\n",
            "1 pneumonia_viral/person16_virus_47.jpeg\n",
            "2 pneumonia_viral/person17_virus_48.jpeg\n",
            "1 pneumonia_viral/person18_virus_49.jpeg\n",
            "1 pneumonia_viral/person19_virus_50.jpeg\n",
            "2 pneumonia_viral/person1_virus_11.jpeg\n",
            "2 pneumonia_viral/person1_virus_12.jpeg\n",
            "2 pneumonia_viral/person1_virus_13.jpeg\n",
            "2 pneumonia_viral/person1_virus_6.jpeg\n",
            "2 pneumonia_viral/person1_virus_7.jpeg\n",
            "2 pneumonia_viral/person1_virus_8.jpeg\n",
            "2 pneumonia_viral/person1_virus_9.jpeg\n",
            "1 pneumonia_viral/person20_virus_51.jpeg\n",
            "3 pneumonia_viral/person21_virus_52.jpeg\n",
            "3 pneumonia_viral/person21_virus_53.jpeg\n",
            "3 pneumonia_viral/person22_virus_54.jpeg\n",
            "3 pneumonia_viral/person22_virus_55.jpeg\n",
            "3 pneumonia_viral/person23_virus_56.jpeg\n",
            "3 pneumonia_viral/person24_virus_58.jpeg\n",
            "3 pneumonia_viral/person25_virus_59.jpeg\n",
            "3 pneumonia_viral/person26_virus_60.jpeg\n",
            "3 pneumonia_viral/person28_virus_62.jpeg\n",
            "3 pneumonia_viral/person28_virus_63.jpeg\n",
            "3 pneumonia_viral/person29_virus_64.jpeg\n",
            "3 pneumonia_viral/person30_virus_69.jpeg\n",
            "3 pneumonia_viral/person31_virus_70.jpeg\n",
            "3 pneumonia_viral/person32_virus_71.jpeg\n",
            "3 pneumonia_viral/person33_virus_72.jpeg\n",
            "2 pneumonia_viral/person3_virus_15.jpeg\n",
            "2 pneumonia_viral/person3_virus_16.jpeg\n",
            "2 pneumonia_viral/person3_virus_17.jpeg\n",
            "2 pneumonia_viral/person8_virus_27.jpeg\n",
            "3 pneumonia_viral/person8_virus_28.jpeg\n",
            "[22, 80, 86, 54]\n"
          ],
          "name": "stdout"
        }
      ]
    },
    {
      "cell_type": "markdown",
      "metadata": {
        "id": "8OXyHsp_9DVT"
      },
      "source": [
        "### **`Predict Results using predict generator and evaluate the accuracy and Confusion matrix `**"
      ]
    },
    {
      "cell_type": "code",
      "metadata": {
        "id": "fHiC3ceg3Fip",
        "colab": {
          "base_uri": "https://localhost:8080/",
          "height": 556
        },
        "outputId": "dccdb1c0-5079-4193-8dc7-70c29172ab38"
      },
      "source": [
        "from sklearn.metrics import confusion_matrix\n",
        "from sklearn.metrics import plot_confusion_matrix\n",
        "from sklearn.metrics import classification_report\n",
        "\n",
        "\n",
        "\n",
        "filenames = eval_generator.filenames\n",
        "nb_samples = len(filenames)\n",
        "eval_generator.reset()  \n",
        "predict = model.predict_generator(eval_generator,steps = np.ceil(len(eval_generator)))\n",
        "pp=predict\n",
        "predict=np.argmax(predict, axis=-1)\n",
        "classes= eval_generator.classes[eval_generator.index_array]\n",
        "acc=sum(predict==classes)/len(predict)\n",
        "names=[\"covid\",\"normal\",\"pneumonia_bac\",\"pneumonia_vir\"]\n",
        "#print(confusion_matrix(classes,predict))\n",
        "\n",
        "font = {\n",
        "'family': 'Times New Roman',\n",
        "'size': 12\n",
        "}\n",
        "plt.rc('font', **font)\n",
        "cm = confusion_matrix(classes, predict)\n",
        "print(cm)\n",
        "print(classification_report(classes,predict))\n",
        "plt.imshow(cm, cmap=plt.cm.Blues)\n",
        "plt.xlabel('Predicted labels \\nAccuracy: {:0.2f}'.format(acc*100))\n",
        "plt.ylabel(\"True labels\")\n",
        "plt.xticks(classes, [])\n",
        "plt.yticks(classes, [])\n",
        "plt.title('Confusion matrix ')\n",
        "plt.colorbar()\n",
        "plt.show()"
      ],
      "execution_count": 105,
      "outputs": [
        {
          "output_type": "stream",
          "text": [
            "[[20  0  0  0]\n",
            " [ 2 73  1  1]\n",
            " [ 0  2 70  3]\n",
            " [ 0  5 15 50]]\n",
            "              precision    recall  f1-score   support\n",
            "\n",
            "           0       0.91      1.00      0.95        20\n",
            "           1       0.91      0.95      0.93        77\n",
            "           2       0.81      0.93      0.87        75\n",
            "           3       0.93      0.71      0.81        70\n",
            "\n",
            "    accuracy                           0.88       242\n",
            "   macro avg       0.89      0.90      0.89       242\n",
            "weighted avg       0.89      0.88      0.88       242\n",
            "\n"
          ],
          "name": "stdout"
        },
        {
          "output_type": "display_data",
          "data": {
            "image/png": "[encoded data removed]",
            "text/plain": [
              "<Figure size 432x288 with 2 Axes>"
            ]
          },
          "metadata": {
            "tags": [],
            "needs_background": "light"
          }
        }
      ]
    },
    {
      "cell_type": "markdown",
      "metadata": {
        "id": "5PmL7DzI8XW9"
      },
      "source": [
        "**Test Single image**"
      ]
    },
    {
      "cell_type": "code",
      "metadata": {
        "id": "vB_r27-W89cw",
        "colab": {
          "base_uri": "https://localhost:8080/",
          "height": 244
        },
        "outputId": "07096ab5-d542-4ce7-b639-6446315a3f7e"
      },
      "source": [
        "import cv2\n",
        "from skimage import transform\n",
        "\n",
        "img_r = cv2.imread('/content/covid-19/four_classes/test/covid/covid-s3-55.jpeg')\n",
        "\n",
        "\n",
        "img1 = np.array(img_r).astype('float32')/255\n",
        "img2 = transform.resize(img1, (150, 150, 3))\n",
        "\n",
        "img = np.expand_dims(img2, axis=0)\n",
        "\n",
        "r=model.predict(img)\n",
        "\n",
        "names= dict((v,k) for k,v in labels.items())\n",
        "index = np.argmax(r)\n",
        "name=names.get(index,\"Unknown\")\n",
        "\n",
        "p=round(r.max()*100, 3)  #to find maximum score\n",
        "\n",
        "scores=r\n",
        "print(scores)\n",
        "\n",
        "font = {\n",
        "'family': 'Times New Roman',\n",
        "'size': 9,\n",
        "\n",
        "}\n",
        "plt.rc('font', **font)\n",
        "\n",
        "#plt.title(name +\" (\"+ str(p)+\")\")\n",
        "plt.title(names[0] +\" \"+ str(round(scores[0][0]*100,1))+\"%\"+\"\\n\"+names[1] +\" \"+ str(round(scores[0][1]*100,1))+\"%\"+\"\\n\"+names[2] +\" \"+ str(round(scores[0][2]*100,1))+\"%\"+\"\\n\"+names[3] +\" \"+ str(round(scores[0][3]*100,1))+\"%\")\n",
        "\n",
        "plt.imshow(img2) \n"
      ],
      "execution_count": 68,
      "outputs": [
        {
          "output_type": "error",
          "ename": "NameError",
          "evalue": "ignored",
          "traceback": [
            "\u001b[0;31m---------------------------------------------------------------------------\u001b[0m",
            "\u001b[0;31mNameError\u001b[0m                                 Traceback (most recent call last)",
            "\u001b[0;32m<ipython-input-68-541fa4d7edd5>\u001b[0m in \u001b[0;36m<module>\u001b[0;34m()\u001b[0m\n\u001b[1;32m     12\u001b[0m \u001b[0mr\u001b[0m\u001b[0;34m=\u001b[0m\u001b[0mmodel\u001b[0m\u001b[0;34m.\u001b[0m\u001b[0mpredict\u001b[0m\u001b[0;34m(\u001b[0m\u001b[0mimg\u001b[0m\u001b[0;34m)\u001b[0m\u001b[0;34m\u001b[0m\u001b[0;34m\u001b[0m\u001b[0m\n\u001b[1;32m     13\u001b[0m \u001b[0;34m\u001b[0m\u001b[0m\n\u001b[0;32m---> 14\u001b[0;31m \u001b[0mnames\u001b[0m\u001b[0;34m=\u001b[0m \u001b[0mdict\u001b[0m\u001b[0;34m(\u001b[0m\u001b[0;34m(\u001b[0m\u001b[0mv\u001b[0m\u001b[0;34m,\u001b[0m\u001b[0mk\u001b[0m\u001b[0;34m)\u001b[0m \u001b[0;32mfor\u001b[0m \u001b[0mk\u001b[0m\u001b[0;34m,\u001b[0m\u001b[0mv\u001b[0m \u001b[0;32min\u001b[0m \u001b[0mlabels\u001b[0m\u001b[0;34m.\u001b[0m\u001b[0mitems\u001b[0m\u001b[0;34m(\u001b[0m\u001b[0;34m)\u001b[0m\u001b[0;34m)\u001b[0m\u001b[0;34m\u001b[0m\u001b[0;34m\u001b[0m\u001b[0m\n\u001b[0m\u001b[1;32m     15\u001b[0m \u001b[0mindex\u001b[0m \u001b[0;34m=\u001b[0m \u001b[0mnp\u001b[0m\u001b[0;34m.\u001b[0m\u001b[0margmax\u001b[0m\u001b[0;34m(\u001b[0m\u001b[0mr\u001b[0m\u001b[0;34m)\u001b[0m\u001b[0;34m\u001b[0m\u001b[0;34m\u001b[0m\u001b[0m\n\u001b[1;32m     16\u001b[0m \u001b[0mname\u001b[0m\u001b[0;34m=\u001b[0m\u001b[0mnames\u001b[0m\u001b[0;34m.\u001b[0m\u001b[0mget\u001b[0m\u001b[0;34m(\u001b[0m\u001b[0mindex\u001b[0m\u001b[0;34m,\u001b[0m\u001b[0;34m\"Unknown\"\u001b[0m\u001b[0;34m)\u001b[0m\u001b[0;34m\u001b[0m\u001b[0;34m\u001b[0m\u001b[0m\n",
            "\u001b[0;31mNameError\u001b[0m: name 'labels' is not defined"
          ]
        }
      ]
    },
    {
      "cell_type": "markdown",
      "metadata": {
        "id": "uGl3vuuoPUjZ"
      },
      "source": [
        "**Test Whole Folder**"
      ]
    },
    {
      "cell_type": "code",
      "metadata": {
        "id": "Y-NOuylbpJ_5",
        "colab": {
          "base_uri": "https://localhost:8080/"
        },
        "outputId": "9cf04416-af3c-48b2-b7c5-23047687e5a4"
      },
      "source": [
        "import cv2\n",
        "from skimage import transform\n",
        "\n",
        "count=[0,0,0,0]\n",
        "folder_name = \"/content/covid-19/four_classes/test/covid\"\n",
        "files=os.listdir(folder_name)\n",
        "for i in range(len(files)):\n",
        "  img_r = cv2.imread(folder_name+\"/\"+files[i])\n",
        "\n",
        "  img = np.array(img_r).astype('float32')/255\n",
        "\n",
        "  img = transform.resize(img, (150, 150, 3))\n",
        "  img = np.expand_dims(img, axis=0)\n",
        "  \n",
        "  predict=model.predict(img)\n",
        "  p=np.argmax(predict, axis=-1)\n",
        "  #p=model.predict_classes(img)\n",
        "  count[p[0]]+=1\n",
        "  print(str(p[0])+\" \"+files[i]) \n",
        "  \n",
        "  print()\n",
        "  \n",
        "  \n",
        "print(count)"
      ],
      "execution_count": 47,
      "outputs": [
        {
          "output_type": "stream",
          "text": [
            "0 SARS-10.1148rg.242035193-g04mr34g0-Fig8b-day5.jpeg\n",
            "\n",
            "0 SARS-10.1148rg.242035193-g04mr34g07b-Fig7b-day12.jpeg\n",
            "\n",
            "0 X-ray_of_cyst_in_pneumocystis_pneumonia_1.jpg\n",
            "\n",
            "0 covid-19-pneumonia-evolution-over-a-week-1-day6.jpg\n",
            "\n",
            "0 covid-19-pneumonia-rapidly-progressive-3-days.jpg\n",
            "\n",
            "0 covid-19-rapidly-progressive-acute-respiratory-distress-syndrome-ards-day-2.jpg\n",
            "\n",
            "0 figure1-5e75d0940b71e1b702629659-98-right.jpeg\n",
            "\n",
            "0 figure1-5e7c1b8d98c29ab001275405-98-later.jpeg\n",
            "\n",
            "0 jkms-35-e79-g001-l-c.jpg\n",
            "\n",
            "0 pneumococcal-pneumonia-day0.jpg\n",
            "\n",
            "0 pneumocystis-jirovecii-pneumonia-2.jpg\n",
            "\n",
            "0 pneumocystis-pneumonia-2-L.png\n",
            "\n",
            "0 post-intubuation-pneumomediastium-and-pneumothorax-background-covid-19-pneumonia-day1.jpg\n",
            "\n",
            "0 streptococcus-pneumoniae-pneumonia-temporal-evolution-1-day0.jpg\n",
            "\n",
            "0 wong-0003.jpg\n",
            "\n",
            "0 covid-19-pneumonia-67.jpeg\n",
            "\n",
            "0 covid-19-pneumonia-41.jpg\n",
            "\n",
            "0 covid-19-pneumonia-58-day-10.jpg\n",
            "\n",
            "0 covid-s3-60.jpeg\n",
            "\n",
            "0 covid-s3-55.jpeg\n",
            "\n",
            "[20, 0, 0, 0]\n"
          ],
          "name": "stdout"
        }
      ]
    },
    {
      "cell_type": "code",
      "metadata": {
        "id": "RlVURzpeBjoA"
      },
      "source": [
        ""
      ],
      "execution_count": null,
      "outputs": []
    }
  ]
}